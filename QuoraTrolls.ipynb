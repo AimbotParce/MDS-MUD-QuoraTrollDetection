{
 "cells": [
  {
   "cell_type": "code",
   "execution_count": 1,
   "metadata": {},
   "outputs": [
    {
     "name": "stdout",
     "output_type": "stream",
     "text": [
      "Loaded 400000 word embeddings\n"
     ]
    }
   ],
   "source": [
    "from src.embeddings import Glove\n",
    "glove = Glove.load('data/glove.6B/glove.6B.50d.txt')\n",
    "print(f\"Loaded {len(glove)} word embeddings\")"
   ]
  },
  {
   "cell_type": "code",
   "execution_count": 2,
   "metadata": {},
   "outputs": [
    {
     "name": "stdout",
     "output_type": "stream",
     "text": [
      "Words most similar to 'guitar': ['guitar', 'vocals', 'guitars', 'bass', 'harmonica']\n"
     ]
    }
   ],
   "source": [
    "# To test a bit, let's check the embedding of the word \"guitar\", and query the 5 most similar words to it\n",
    "embedding = glove.get(\"guitar\")\n",
    "similar = glove.query(embedding, 5)\n",
    "\n",
    "print(f\"Words most similar to 'guitar': {similar}\")"
   ]
  },
  {
   "cell_type": "code",
   "execution_count": null,
   "metadata": {},
   "outputs": [
    {
     "data": {
      "text/plain": [
       "'king'"
      ]
     },
     "execution_count": 4,
     "metadata": {},
     "output_type": "execute_result"
    }
   ],
   "source": [
    "# Now we'll play a bit with \"analogies\"\n",
    "def getAnalogy(base:str, target:str, origin:str, glove:Glove):\n",
    "    \"Compute the analogy of the form: origin - base + target\"\n",
    "    if not base in glove:\n",
    "        raise ValueError(f\"Word '{base}' not found\")\n",
    "    if not target in glove:\n",
    "        raise ValueError(f\"Word '{target}' not found\")\n",
    "    if not origin in glove:\n",
    "        raise ValueError(f\"Word '{origin}' not found\")\n",
    "    base_embedding = glove.get(base)\n",
    "    target_embedding = glove.get(target)\n",
    "    origin_embedding = glove.get(origin)\n",
    "\n",
    "    analogy = glove.query(origin_embedding - base_embedding + target_embedding, 1)[0]\n",
    "    return analogy\n",
    "\n",
    "\n",
    "getAnalogy(\"man\", \"woman\", \"king\", glove) # We expect to see \"queen\""
   ]
  },
  {
   "cell_type": "code",
   "execution_count": null,
   "metadata": {},
   "outputs": [
    {
     "name": "stdout",
     "output_type": "stream",
     "text": [
      "[ 0.50451   0.68607  -0.59517  -0.022801  0.60046  -0.13498  -0.08813\n",
      "  0.47377  -0.61798  -0.31012  -0.076666  1.493    -0.034189 -0.98173\n",
      "  0.68229   0.81722  -0.51874  -0.31503  -0.55809   0.66421   0.1961\n",
      " -0.13495  -0.11476  -0.30344   0.41177  -2.223    -1.0756   -1.0783\n",
      " -0.34354   0.33505   1.9927   -0.04234  -0.64319   0.71125   0.49159\n",
      "  0.16754   0.34344  -0.25663  -0.8523    0.1661    0.40102   1.1685\n",
      " -1.0137   -0.21585  -0.15155   0.78321  -0.91241  -1.6106   -0.64426\n",
      " -0.51042 ]\n",
      "[ 0.41736597  0.90427005 -1.0050299  -0.06202102  0.49725997  0.80667007\n",
      " -0.14855     0.80365    -0.15653998 -0.66973996  0.23435399  0.62476\n",
      "  0.925871   -0.97099996  0.92566     0.89915    -1.54596    -0.52625\n",
      "  0.13695401  0.66199005  0.4871601   0.37035    -0.214214    0.10100996\n",
      "  0.71358    -2.0874999  -1.1362001  -1.1496099  -0.53599     0.27389997\n",
      "  1.6723      0.02930999 -0.77656007  0.46056286  0.34866    -0.05741701\n",
      "  0.19444    -0.207748   -0.73038995 -0.10751998  0.235544    0.96423995\n",
      " -0.46993998 -0.48727497 -0.25399995  0.4621299  -0.66081    -1.9451499\n",
      " -0.68797004 -0.49784005]\n",
      "[ 0.37854    1.8233    -1.2648    -0.1043     0.35829    0.60029\n",
      " -0.17538    0.83767   -0.056798  -0.75795    0.22681    0.98587\n",
      "  0.60587   -0.31419    0.28877    0.56013   -0.77456    0.071421\n",
      " -0.5741     0.21342    0.57674    0.3868    -0.12574    0.28012\n",
      "  0.28135   -1.8053    -1.0421    -0.19255   -0.55375   -0.054526\n",
      "  1.5574     0.39296   -0.2475     0.34251    0.45365    0.16237\n",
      "  0.52464   -0.070272  -0.83744   -1.0326     0.45946    0.25302\n",
      " -0.17837   -0.73398   -0.20025    0.2347    -0.56095   -2.2839\n",
      "  0.0092753 -0.60284  ]\n"
     ]
    }
   ],
   "source": []
  }
 ],
 "metadata": {
  "kernelspec": {
   "display_name": ".venv",
   "language": "python",
   "name": "python3"
  },
  "language_info": {
   "codemirror_mode": {
    "name": "ipython",
    "version": 3
   },
   "file_extension": ".py",
   "mimetype": "text/x-python",
   "name": "python",
   "nbconvert_exporter": "python",
   "pygments_lexer": "ipython3",
   "version": "3.11.1"
  }
 },
 "nbformat": 4,
 "nbformat_minor": 2
}
